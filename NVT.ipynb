{
 "cells": [
  {
   "cell_type": "code",
   "execution_count": 4,
   "metadata": {},
   "outputs": [],
   "source": [
    "import json\n",
    "import requests\n",
    "from datetime import datetime\n",
    "from prettytable import PrettyTable\n",
    "from colorama import Fore, Back, Style"
   ]
  },
  {
   "cell_type": "code",
   "execution_count": 5,
   "metadata": {},
   "outputs": [],
   "source": [
    "convert = 'USD'\n",
    "\n",
    "listing_url = 'https://api.coinmarketcap.com/v2/listings/'\n",
    "url_end = '?structure=array&convert=' + convert\n",
    "\n",
    "request = requests.get(listing_url)\n",
    "results = request.json()\n",
    "\n",
    "data = results['data']\n",
    "\n",
    "ticker_url_pairs = {}\n",
    "for currency in data:\n",
    "    symbol = currency['symbol']\n",
    "    url = currency['id']\n",
    "    ticker_url_pairs[symbol] = url"
   ]
  },
  {
   "cell_type": "code",
   "execution_count": 7,
   "metadata": {},
   "outputs": [
    {
     "name": "stdout",
     "output_type": "stream",
     "text": [
      "\n",
      "\n",
      "+------+---------------------+---------------+---------------------+\n",
      "| Rank |        Asset        | Current Price |   Expected Bottom   |\n",
      "+------+---------------------+---------------+---------------------+\n",
      "|  4   | Bitcoin Cash ( BCH) |    $806.537   | $1.6766948440587033 |\n",
      "+------+---------------------+---------------+---------------------+\n",
      "\n",
      "\n",
      "\n",
      "+------+---------------------+---------------+--------------------+\n",
      "| Rank |        Asset        | Current Price |  Expected Bottom   |\n",
      "+------+---------------------+---------------+--------------------+\n",
      "|  4   | Bitcoin Cash ( BCH) |    $805.243   | $670.2816387306848 |\n",
      "+------+---------------------+---------------+--------------------+\n",
      "\n",
      "\n",
      "\n",
      "+------+---------------------+---------------+--------------------+\n",
      "| Rank |        Asset        | Current Price |  Expected Bottom   |\n",
      "+------+---------------------+---------------+--------------------+\n",
      "|  4   | Bitcoin Cash ( BCH) |    $805.243   | $335.1408193653424 |\n",
      "+------+---------------------+---------------+--------------------+\n",
      "\n"
     ]
    }
   ],
   "source": [
    "while True:\n",
    "\n",
    "    print()\n",
    "    choice = input(\"Enter the ticker symbol of a cryptocurrency: \")\n",
    "    choice = choice.upper()\n",
    "\n",
    "    ticker_url = 'https://api.coinmarketcap.com/v2/ticker/' + str(ticker_url_pairs[choice]) + '/' + url_end\n",
    "\n",
    "    request = requests.get(ticker_url)\n",
    "    results = request.json()\n",
    "\n",
    "    # print(json.dumps(results, sort_keys=True, indent=4))\n",
    "\n",
    "    currency = results['data'][0]\n",
    "\n",
    "    rank = currency['rank']\n",
    "    name = currency['name']\n",
    "    symbol = currency['symbol']\n",
    "\n",
    "    circulating_supply = int(currency['circulating_supply'])\n",
    "    total_supply = int(currency['total_supply'])\n",
    "\n",
    "    quotes = currency['quotes'][convert]\n",
    "    market_cap = quotes['market_cap']\n",
    "    hour_change = quotes['percent_change_1h']\n",
    "    day_change = quotes['percent_change_24h']\n",
    "    week_change = quotes['percent_change_7d']\n",
    "    price = quotes['price']\n",
    "    volume = quotes['volume_24h']\n",
    "    \n",
    "    NVT = float(input(\"Enter NVT: \"))\n",
    "    marketcap_NVT = float(volume)*NVT\n",
    "    price_per_coin = float(marketcap_NVT/float(circulating_supply))\n",
    "    \n",
    "    table = PrettyTable(['Rank','Asset','Current Price','Expected Bottom'])\n",
    "    table.add_row([rank,\n",
    "                   name + ' ( ' + symbol + ')',\n",
    "                   '$' + str(price),\n",
    "                    '$' + str(price_per_coin)])\n",
    "    \n",
    "    print()\n",
    "    print(table)\n",
    "    print()\n",
    "\n",
    "    choice = input('Again? (y/n): ')\n",
    "\n",
    "    if choice == 'n':\n",
    "        break"
   ]
  },
  {
   "cell_type": "code",
   "execution_count": null,
   "metadata": {},
   "outputs": [],
   "source": []
  }
 ],
 "metadata": {
  "kernelspec": {
   "display_name": "Python 3",
   "language": "python",
   "name": "python3"
  },
  "language_info": {
   "codemirror_mode": {
    "name": "ipython",
    "version": 3
   },
   "file_extension": ".py",
   "mimetype": "text/x-python",
   "name": "python",
   "nbconvert_exporter": "python",
   "pygments_lexer": "ipython3",
   "version": "3.6.4"
  }
 },
 "nbformat": 4,
 "nbformat_minor": 2
}
